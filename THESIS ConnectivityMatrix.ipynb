{
 "cells": [
  {
   "cell_type": "markdown",
   "id": "3459ab13-df70-4e37-89b6-bf2928820766",
   "metadata": {},
   "source": [
    "# Creation of a Connectivity Matrix"
   ]
  },
  {
   "cell_type": "markdown",
   "id": "6d23c3a1-32e5-43c3-a119-04089e866fe2",
   "metadata": {},
   "source": [
    "### Ex: 7 days"
   ]
  },
  {
   "cell_type": "markdown",
   "id": "6881dc7e-0a45-40eb-a35c-028dfe91e8b9",
   "metadata": {},
   "source": [
    "Some variables taken from the other Notebooks"
   ]
  },
  {
   "cell_type": "code",
   "execution_count": null,
   "id": "81939b0d-cf04-4c03-8c9c-9ffc2d18f2c2",
   "metadata": {},
   "outputs": [],
   "source": [
    "import xarray as xr\n",
    "import numpy as np\n",
    "from scipy.spatial import KDTree\n",
    "from scipy.sparse import lil_matrix\n",
    "from scipy.spatial.distance import cdist"
   ]
  },
  {
   "cell_type": "markdown",
   "id": "367f115f-659c-4180-aa99-d82e9de21aeb",
   "metadata": {},
   "source": [
    "### Necessary variables from the other Notebooks"
   ]
  },
  {
   "cell_type": "code",
   "execution_count": null,
   "id": "aece6288-230e-4119-9503-d6c2c21c0ea0",
   "metadata": {},
   "outputs": [],
   "source": [
    "# The results of the simulation from 1133x10 coral spots, April 1997\n",
    "# 99 days, hourly release every day from 18:00:00 to 06:00:00, output every hour, dt=30min\n",
    "# Available in the Notebook \"Simulations\"\n",
    "ds_own_time_CELLS_6 = xr.open_zarr(\"Ok_THESIS_simulation_own_time_CELLS_6.zarr\")\n",
    "\n",
    "# Locations of coral spots grouped (36)\n",
    "new_corals_lon = np.array([39.73223114, 39.6405884, 39.500, 39.92, 39.47441864, 39.50928879,\n",
    "        39.9375    , 39.56, 39.34, 39.26, 39.03000259, 38.9177742 ,\n",
    "        39.13373184, 39.30393982, 39.60278183, 39.4683342 , 39.18, 39.42,\n",
    "        38.88454819, 39.01739502, 39.10639954, 39.20000076, 39.26356888,\n",
    "        39.6333313 , 39.86, 39.88, 39.7731514 , 39.64492798, 39.36883545,\n",
    "        39.53882599, 39.67703629, 39.89500046, 40.05157852, 40.23666763,\n",
    "        40.67300415, 40.98210526]) \n",
    "new_corals_lat = np.array([-8.01682186, -7.69152546, -7.99, -7.745, -7.48969936, -7.23591518,\n",
    "        -6.89461374, -6.982, -6.809, -6.594,  -6.45777082, -6.18345165,\n",
    "        -6.16138983, -6.36267281, -6.37120247, -6.0890007 , -5.877, -5.776,\n",
    "        -5.79438543, -5.54667282, -5.28294134, -5.02995682, -4.80961895,\n",
    "        -5.42941427, -5.304, -5.048 , -4.86327362, -5.17221212, -4.68640804,\n",
    "        -4.43031645, -4.12676477, -3.63475347, -3.35852289, -2.85103106,\n",
    "        -2.55003238, -2.24830103])\n",
    "\n",
    "# Locations of 1133 coral spots, that arises from Notebook \"Corals\"\n",
    "    #filtered_lon_list\n",
    "    #filtered_lat_list"
   ]
  },
  {
   "cell_type": "markdown",
   "id": "7670fd6e-74dd-4803-a396-fad1741dfab1",
   "metadata": {},
   "source": [
    "### Time and location of particles at the starting time and after 7 days of advection"
   ]
  },
  {
   "cell_type": "code",
   "execution_count": null,
   "id": "1c6b75c0-b739-4d42-a23a-2bab8053fd5a",
   "metadata": {},
   "outputs": [],
   "source": [
    "time_reduced_0 = ds_own_time_CELLS_6.time.isel(obs=0).values\n",
    "lon_reduced_0 = ds_own_time_CELLS_6.lon.isel(obs=0).values\n",
    "lat_reduced_0 = ds_own_time_CELLS_6.lat.isel(obs=0).values\n",
    "\n",
    "# Since the simulation have an output every hour 7*24=168\n",
    "time_reduced_7 = ds_own_time_CELLS_6.time.isel(obs=168).values\n",
    "lon_reduced_7 = ds_own_time_CELLS_6.lon.isel(obs=168).values\n",
    "lat_reduced_7 = ds_own_time_CELLS_6.lat.isel(obs=168).values"
   ]
  },
  {
   "cell_type": "markdown",
   "id": "1248a23f-d72c-4e1a-8ec2-9c55160ad66d",
   "metadata": {},
   "source": [
    "### Substitution of the starting location of the trajectories with the closest point among the 36 coral grouped spots"
   ]
  },
  {
   "cell_type": "markdown",
   "id": "630f0bf7-0356-4674-9a20-22e2f6f58d0e",
   "metadata": {},
   "source": [
    "For the function KDTree see: https://docs.scipy.org/doc/scipy/reference/generated/scipy.spatial.KDTree.html"
   ]
  },
  {
   "cell_type": "code",
   "execution_count": null,
   "id": "e7e28de4-ae35-4a91-8a4b-8fa7ee79a9c9",
   "metadata": {},
   "outputs": [],
   "source": [
    "# Combine coral reef points into a single array\n",
    "reef_points_36 = np.column_stack((new_corals_lon, new_corals_lat))\n",
    "\n",
    "# Build KDTree for coral reef points\n",
    "reef_tree_36 = KDTree(reef_points_36)\n",
    "\n",
    "# Query KDTree for closest reef point to each starting point\n",
    "distances_36, indices_36 = reef_tree_36.query(np.column_stack((lon_reduced_0, lat_reduced_0)), k=1)\n",
    "\n",
    "# Get closest reef points\n",
    "closest_reef_lon_36 = new_corals_lon[indices_36]\n",
    "closest_reef_lat_36 = new_corals_lat[indices_36]"
   ]
  },
  {
   "cell_type": "markdown",
   "id": "158a17f3-bc8b-46a0-9124-9a27c6da1f00",
   "metadata": {},
   "source": [
    "### Key variables for the creation of the Matrix"
   ]
  },
  {
   "cell_type": "code",
   "execution_count": null,
   "id": "077f0976-e765-4c0b-ade1-955648fc576e",
   "metadata": {},
   "outputs": [],
   "source": [
    "# Proximity threshold (approx 2.2 km)\n",
    "proximity_threshold = 0.02\n",
    "\n",
    "# Number of spots\n",
    "n_grouped_spots = len(new_corals_lon)\n",
    "n_small_spots = len(filtered_lon_list)"
   ]
  },
  {
   "cell_type": "markdown",
   "id": "68374ddb-e00f-48b5-910c-5193b7f18a50",
   "metadata": {},
   "source": [
    "Workflow of the 36x36 Matrix creation:\n",
    "- Get a matrix with 36 starting spots and with 1133 possible ending spots (36x1133 matrix)\n",
    "- Link every possible ending spots among the 1133 to the closest grouped spots among the 36\n",
    "- Update the matrix with 36 starting spots and 36 ending spots (36x36 matrix)\n",
    "- Get the matrix in an array form\n",
    "- To assign to 0 values (so no connections between spots) a nan value, transform the matrix into a float"
   ]
  },
  {
   "cell_type": "code",
   "execution_count": null,
   "id": "a8b966a9-d7f9-48ea-8220-2fe797dd8ddd",
   "metadata": {},
   "outputs": [],
   "source": [
    "# Initialize the connectivity matrix as a sparse matrix\n",
    "connectivity_matrix_7_36x36 = lil_matrix((n_grouped_spots, n_grouped_spots), dtype=int)\n",
    "\n",
    "# Function to find indices of nearest points within a threshold\n",
    "def find_nearest_reefs(lat, lon, reef_lats, reef_lons, threshold):\n",
    "    lat_diff = np.abs(reef_lats - lat)\n",
    "    lon_diff = np.abs(reef_lons - lon)\n",
    "    mask = (lat_diff <= threshold) & (lon_diff <= threshold)\n",
    "    return np.where(mask)[0]\n",
    "\n",
    "# Function to find the index of the nearest point among grouped coral spots\n",
    "def find_nearest_grouped_index(lat, lon, grouped_lats, grouped_lons):\n",
    "    distances = cdist([[lat, lon]], np.column_stack((new_corals_lat, new_corals_lon)))\n",
    "    return np.argmin(distances)\n",
    "\n",
    "# Process each of the 36 grouped starting positions\n",
    "for i in range(n_grouped_spots):\n",
    "    start_lon = new_corals_lon[i]\n",
    "    start_lat = new_corals_lat[i]\n",
    "\n",
    "    # Find particles that started from the i-th grouped coral reef spot\n",
    "    particles_at_start = np.where((closest_reef_lon_36 == start_lon) & (closest_reef_lat_36 == start_lat))[0]\n",
    "\n",
    "    # Positions after 7 days for these particles\n",
    "    end_lats = lat_reduced_7[particles_at_start]\n",
    "    end_lons = lon_reduced_7[particles_at_start]\n",
    "\n",
    "    # Remove NaN and Inf values\n",
    "    finite_mask = np.isfinite(end_lats) & np.isfinite(end_lons)\n",
    "    end_lats = end_lats[finite_mask]\n",
    "    end_lons = end_lons[finite_mask]\n",
    "\n",
    "    # Find nearest reef spots for end positions\n",
    "    for end_lat, end_lon in zip(end_lats, end_lons):\n",
    "        nearest_reef_indices = find_nearest_reefs(end_lat, end_lon, filtered_lat_list, filtered_lon_list, proximity_threshold)\n",
    "        \n",
    "        for reef_idx in nearest_reef_indices:\n",
    "            # Get the coordinates of the nearest reef\n",
    "            reef_lat = filtered_lat_list[reef_idx]\n",
    "            reef_lon = filtered_lon_list[reef_idx]\n",
    "            \n",
    "            # Find the nearest grouped coral spot to this reef\n",
    "            closest_grouped_index = find_nearest_grouped_index(reef_lat, reef_lon, new_corals_lat, new_corals_lon)\n",
    "            \n",
    "            # Update the connectivity matrix\n",
    "            connectivity_matrix_7_36x36[i, closest_grouped_index] += 1\n",
    "\n",
    "connectivity_matrix_7_36x36_array = connectivity_matrix_7_36x36.toarray()"
   ]
  },
  {
   "cell_type": "code",
   "execution_count": null,
   "id": "cb7d7e7d-6548-4323-8431-16b7c1504f7b",
   "metadata": {},
   "outputs": [],
   "source": [
    "# Matrix --> float and 0 --> nan\n",
    "connectivity_matrix_7_36x36_array_nan = connectivity_matrix_7_36x36_array.astype(float)\n",
    "connectivity_matrix_7_36x36_array_nan[connectivity_matrix_7_36x36_array_nan == 0] = np.nan"
   ]
  },
  {
   "cell_type": "markdown",
   "id": "694b8b0d-c116-40a9-a79d-6a1aeb58cbef",
   "metadata": {},
   "source": [
    "### Visualization of the values"
   ]
  },
  {
   "cell_type": "markdown",
   "id": "f9a190b0-9df4-4166-9f50-f025d89e4abe",
   "metadata": {},
   "source": [
    "To see the values in percentage in respect to the corresponding row in the matrix"
   ]
  },
  {
   "cell_type": "code",
   "execution_count": null,
   "id": "5732c8ae-2267-4935-bfa2-0b21c0daf95d",
   "metadata": {},
   "outputs": [],
   "source": [
    "row_sums = np.nansum(connectivity_matrix_7_36x36_array_nan, axis=1, keepdims=True)\n",
    "connectivity_matrix_7_36x36_array_nan_perc = (connectivity_matrix_7_36x36_array_nan / row_sums) * 100"
   ]
  },
  {
   "cell_type": "markdown",
   "id": "45440311-c5ca-4b49-8594-b317391b6b3e",
   "metadata": {},
   "source": [
    "### Analysis of the max values and indexes"
   ]
  },
  {
   "cell_type": "code",
   "execution_count": null,
   "id": "a2ed532b-1db4-457c-a45a-d052cd0faa56",
   "metadata": {},
   "outputs": [],
   "source": [
    "valid_indices = ~np.isnan(connectivity_matrix_7_36x36_array_nan)\n",
    "flattened_valid_matrix = connectivity_matrix_7_36x36_array_nan[valid_indices]\n",
    "largest_values_indices_flat = np.argpartition(flattened_valid_matrix, -10)[-10:]\n",
    "sorted_largest_indices_flat = largest_values_indices_flat[np.argsort(flattened_valid_matrix[largest_values_indices_flat])][::-1]\n",
    "largest_values_indices_original = np.where(valid_indices.flatten())[0][sorted_largest_indices_flat]\n",
    "max_indices_7_36x36_April97 = np.unravel_index(largest_values_indices_original, connectivity_matrix_7_36x36_array_nan.shape)\n",
    "largest_values_7_36x36_April97 = connectivity_matrix_7_36x36_array_nan[max_indices_7_36x36_April97]"
   ]
  }
 ],
 "metadata": {
  "kernelspec": {
   "display_name": "Python 3 (ipykernel)",
   "language": "python",
   "name": "python3"
  },
  "language_info": {
   "codemirror_mode": {
    "name": "ipython",
    "version": 3
   },
   "file_extension": ".py",
   "mimetype": "text/x-python",
   "name": "python",
   "nbconvert_exporter": "python",
   "pygments_lexer": "ipython3",
   "version": "3.12.1"
  }
 },
 "nbformat": 4,
 "nbformat_minor": 5
}

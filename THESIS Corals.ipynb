{
 "cells": [
  {
   "cell_type": "markdown",
   "id": "636d2251-7423-4f42-9c7d-b568994d596d",
   "metadata": {},
   "source": [
    "# Importing and saving Corals locations from \"Coral reef potential connectivity in the southwest Indian Ocean.\""
   ]
  },
  {
   "cell_type": "markdown",
   "id": "00180d63-8a76-4274-a4b4-9dbdf105ac50",
   "metadata": {},
   "source": [
    "From Noam S. Vogt-Vincent Github page: https://github.com/nvogtvincent/WIO_Coral/tree/main/SCRIPTS, it is possible to download the locations of the coral spots in the Western Indian Ocean region (in particular inside the domain of WINDS dataset) both in every cell of WINDS grid and grouped with a clusterization done by the team of the research.\n",
    "\n",
    "- 'site_reference_cell.csv' contains the cell points\n",
    "- 'site_reference_grp_reordered.xlsx' contains the grouped locations"
   ]
  },
  {
   "cell_type": "code",
   "execution_count": 1,
   "id": "b5a5cb59-dc33-489b-82f7-387f6d684078",
   "metadata": {},
   "outputs": [],
   "source": [
    "import xarray as xr\n",
    "import pandas as pd\n",
    "import numpy as np"
   ]
  },
  {
   "cell_type": "markdown",
   "id": "d4612de4-64d3-4096-9d76-60b98e5652c3",
   "metadata": {},
   "source": [
    "### Defining the domain (thesis case study)"
   ]
  },
  {
   "cell_type": "code",
   "execution_count": 2,
   "id": "fecd7815-e3e2-452d-8f83-188327d1fd23",
   "metadata": {},
   "outputs": [],
   "source": [
    "inf_lat = -8.161049\n",
    "sup_lat = -2.1883478\n",
    "left_lon = 37.62\n",
    "right_lon = 43.62\n",
    "extent = [left_lon-0.1, right_lon+0.1, sup_lat+0.1, inf_lat-0.1]"
   ]
  },
  {
   "cell_type": "markdown",
   "id": "92d7d404-9b9b-467f-8db4-1336cc4c3d12",
   "metadata": {},
   "source": [
    "### Opening and visualizing the locations inside the domain\n",
    "#### Ex: cell locations"
   ]
  },
  {
   "cell_type": "code",
   "execution_count": 3,
   "id": "b22d0995-2655-42c4-840b-2d2d746fb5e7",
   "metadata": {},
   "outputs": [],
   "source": [
    "# First download the file and then name it as 'site_reference_cell.csv'\n",
    "csvFile = pd.read_csv('site_reference_cell.csv')\n",
    "\n",
    "# Select only the locations inside the domain\n",
    "ds_cells_big = csvFile[((csvFile['Longitude'] >= left_lon) & (csvFile['Longitude'] < right_lon)) & ((csvFile['Latitude'] >= inf_lat) & (csvFile['Latitude'] < sup_lat))]\n",
    "\n",
    "# Drop the variables not relevant (keeping only Latitude and Longitude)\n",
    "ds_cells = ds_cells_big.drop(columns=['Unnamed: 0','Group number','L2 Group','L1 Group','Country','Reef area','Cell number'])"
   ]
  },
  {
   "cell_type": "markdown",
   "id": "0ae75946-2ae5-433d-8b8d-339e921bc0cc",
   "metadata": {},
   "source": [
    "The same method for the grouped locations: xlsxFile = pd.read_excel('site_reference_grp_reordered.xlsx')"
   ]
  },
  {
   "cell_type": "markdown",
   "id": "083f153a-a9fe-445f-b0fc-33b797a07355",
   "metadata": {},
   "source": [
    "### Deleting points outside the domain of WINDS dataset (so on land)"
   ]
  },
  {
   "cell_type": "markdown",
   "id": "c9db0cc8-c0ce-4485-8808-536d9b962307",
   "metadata": {},
   "source": [
    "Importing the velocity field (here v-field, but it is ok also u-field and mesh)"
   ]
  },
  {
   "cell_type": "code",
   "execution_count": 4,
   "id": "2c338a46-2c4a-4613-ba3a-20dff5d782f0",
   "metadata": {},
   "outputs": [],
   "source": [
    "days70_from_april_1997_velocity_v_OK = xr.open_dataset(\"days70_from_april_1997_velocity_v_OK.nc\")\n",
    "\n",
    "# Just renaming for a better handling\n",
    "v_surf = days70_from_april_1997_velocity_v_OK.v_surf[0,:,:].values\n",
    "lon_v = days70_from_april_1997_velocity_v_OK.nav_lon_rho[0,:].values\n",
    "lat_v = days70_from_april_1997_velocity_v_OK.nav_lat_rho[:,0].values\n",
    "\n",
    "# Function to find the nearest index in a sorted array\n",
    "def find_nearest(array, value):\n",
    "    idx = (np.abs(array - value)).argmin()\n",
    "    return idx\n",
    "\n",
    "# Filtering the locations\n",
    "filtered_lon_list = []\n",
    "filtered_lat_list = []\n",
    "\n",
    "for lon, lat in zip(ds_cells['Longitude'].values, ds_cells['Latitude'].values):\n",
    "    # Finding the nearest grid cell in the velocity field\n",
    "    lon_idx = find_nearest(lon_v, lon)\n",
    "    lat_idx = find_nearest(lat_v, lat)\n",
    "    \n",
    "    # Checking if the point is within the bounds of the velocity field\n",
    "    if 0 <= lon_idx < len(lon_v) and 0 <= lat_idx < len(lat_v):\n",
    "        # Checking if the velocity value at this location is non-zero\n",
    "        if v_surf[lat_idx, lon_idx] != 0:\n",
    "            filtered_lon_list.append(lon)\n",
    "            filtered_lat_list.append(lat)"
   ]
  },
  {
   "cell_type": "markdown",
   "id": "408b7342-9430-4773-b815-a26519702af0",
   "metadata": {},
   "source": [
    "### Creating squares around each point (to later make particles start from these points)"
   ]
  },
  {
   "cell_type": "code",
   "execution_count": 5,
   "id": "2991b381-603a-4aa0-8349-e4175500e1d1",
   "metadata": {},
   "outputs": [],
   "source": [
    "# Square size (0.02 to the left, to the right, above and below every 1133 filtered points)\n",
    "dx = 0.02\n",
    "dy = 0.02\n",
    "\n",
    "# Number of random points per square\n",
    "num_points = 10\n",
    "\n",
    "# Set random seed for reproducibility\n",
    "np.random.seed(42)\n",
    "\n",
    "# Latitude and Longitude of the 1133x10 points\n",
    "random_latitudes = []\n",
    "random_longitudes = []\n",
    "\n",
    "# Generating random points within squares\n",
    "for lon, lat in zip(filtered_lon_list, filtered_lat_list):\n",
    "    lower_lat = lat - dy\n",
    "    upper_lat = lat + dy\n",
    "    left_lon = lon - dx\n",
    "    right_lon = lon + dx\n",
    "\n",
    "    # Generating random points and ensure they are within valid cells of the velocity field\n",
    "    generated_points = 0\n",
    "    while generated_points < num_points:\n",
    "        random_lat = np.random.uniform(lower_lat, upper_lat)\n",
    "        random_lon = np.random.uniform(left_lon, right_lon)\n",
    "        \n",
    "        # Finding the nearest indices in the velocity field grid\n",
    "        lon_idx = find_nearest(lon_v, random_lon)\n",
    "        lat_idx = find_nearest(lat_v, random_lat)\n",
    "        \n",
    "        # Checking if the point is within the bounds and in a non-zero velocity cell\n",
    "        if 0 <= lon_idx < len(lon_v) and 0 <= lat_idx < len(lat_v) and v_surf[lat_idx, lon_idx] != 0:\n",
    "            random_latitudes.append(random_lat)\n",
    "            random_longitudes.append(random_lon)\n",
    "            generated_points += 1"
   ]
  },
  {
   "cell_type": "markdown",
   "id": "ceb2ff24-bbbc-4691-92a1-c3da903e153f",
   "metadata": {},
   "source": [
    "It is possible to save all these locations to have them on a csv/xlsx file to use them directly every time with np.save"
   ]
  },
  {
   "cell_type": "markdown",
   "id": "74c1cb63-c99a-48e0-ad9f-f1ebe344f94c",
   "metadata": {},
   "source": [
    "### Grouped locations used for the connectivity matrices (thesis case study)"
   ]
  },
  {
   "cell_type": "code",
   "execution_count": null,
   "id": "6f232ede-e259-43cd-b773-fb09dbceed74",
   "metadata": {},
   "outputs": [],
   "source": [
    "new_corals_lon = np.array([39.73223114, 39.6405884, 39.500, 39.92, 39.47441864, 39.50928879,\n",
    "        39.9375    , 39.56, 39.34, 39.26, 39.03000259, 38.9177742 ,\n",
    "        39.13373184, 39.30393982, 39.60278183, 39.4683342 , 39.18, 39.42,\n",
    "        38.88454819, 39.01739502, 39.10639954, 39.20000076, 39.26356888,\n",
    "        39.6333313 , 39.86, 39.88, 39.7731514 , 39.64492798, 39.36883545,\n",
    "        39.53882599, 39.67703629, 39.89500046, 40.05157852, 40.23666763,\n",
    "        40.67300415, 40.98210526]) \n",
    "\n",
    "new_corals_lat = np.array([-8.01682186, -7.69152546, -7.99, -7.745, -7.48969936, -7.23591518,\n",
    "        -6.89461374, -6.982, -6.809, -6.594,  -6.45777082, -6.18345165,\n",
    "        -6.16138983, -6.36267281, -6.37120247, -6.0890007 , -5.877, -5.776,\n",
    "        -5.79438543, -5.54667282, -5.28294134, -5.02995682, -4.80961895,\n",
    "        -5.42941427, -5.304, -5.048 , -4.86327362, -5.17221212, -4.68640804,\n",
    "        -4.43031645, -4.12676477, -3.63475347, -3.35852289, -2.85103106,\n",
    "        -2.55003238, -2.24830103])"
   ]
  }
 ],
 "metadata": {
  "kernelspec": {
   "display_name": "Python 3 (ipykernel)",
   "language": "python",
   "name": "python3"
  },
  "language_info": {
   "codemirror_mode": {
    "name": "ipython",
    "version": 3
   },
   "file_extension": ".py",
   "mimetype": "text/x-python",
   "name": "python",
   "nbconvert_exporter": "python",
   "pygments_lexer": "ipython3",
   "version": "3.12.1"
  }
 },
 "nbformat": 4,
 "nbformat_minor": 5
}

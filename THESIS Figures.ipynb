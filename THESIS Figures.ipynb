{
 "cells": [
  {
   "cell_type": "markdown",
   "id": "cea941af-3f29-4b99-97ac-5d4132709d35",
   "metadata": {},
   "source": [
    "# Notebook to plot figures useful for the comprehension of the case study"
   ]
  },
  {
   "cell_type": "code",
   "execution_count": null,
   "id": "dea4354b-684c-4440-bb9a-553fcf06a005",
   "metadata": {},
   "outputs": [],
   "source": [
    "import xarray as xr\n",
    "import numpy as np\n",
    "import matplotlib.pyplot as plt\n",
    "import cartopy.crs as ccrs\n",
    "import cartopy.feature as cfeature\n",
    "import cartopy.io.img_tiles as cimgt\n",
    "\n",
    "#%matplotlib widget\n",
    "#%matplotlib inline"
   ]
  },
  {
   "cell_type": "markdown",
   "id": "dfa5db12-e4d8-48e2-b6b1-374282330c22",
   "metadata": {},
   "source": [
    "### Domain"
   ]
  },
  {
   "cell_type": "code",
   "execution_count": null,
   "id": "b49414b1-c608-4418-be5a-0d93578111b1",
   "metadata": {},
   "outputs": [],
   "source": [
    "extent_big = [36.5, 44.5, -1.5, -9.5]\n",
    "extent_thin = [38.5, 42.5, -2.178355, -8.151151]\n",
    "real_domain = [37.62, 43.62, -2.178355, -8.151151]\n",
    "real_domain_plusone = [37.62-1, 43.62+1, -2.178355+1, -8.151151-1]\n",
    "smaller_domain = [38.5, 42.5, -1.8, -8.2]"
   ]
  },
  {
   "cell_type": "markdown",
   "id": "99ba6469-8e84-4a9f-be07-47fa4ac0f39d",
   "metadata": {},
   "source": [
    "### Necessary variables from other Notebooks"
   ]
  },
  {
   "cell_type": "markdown",
   "id": "4236a287-77bf-47a2-87b7-e1385150dd98",
   "metadata": {},
   "source": [
    "Considering to have the following variables available locally"
   ]
  },
  {
   "cell_type": "markdown",
   "id": "43bc0a03-65f9-421b-a692-dd6e7e46071d",
   "metadata": {},
   "source": [
    "#### Connectivity matrix"
   ]
  },
  {
   "cell_type": "code",
   "execution_count": null,
   "id": "c1dc5114-6b6c-45c1-9b8a-fbe287e26070",
   "metadata": {},
   "outputs": [],
   "source": [
    "# Considering the connectivity matrix after 7 days for April 1997\n",
    "connectivity_matrix_7_36x36_array_nan_April97_piscopia = np.load('connectivity_matrix_7_36x36_array_nan_April97_piscopia.npy')\n",
    "row_sums = np.nansum(connectivity_matrix_7_36x36_array_nan_April97_piscopia, axis=1, keepdims=True)\n",
    "connectivity_matrix_7_36x36_array_nan_April97_piscopia_perc = (connectivity_matrix_7_36x36_array_nan_April97_piscopia / row_sums) * 100"
   ]
  },
  {
   "cell_type": "code",
   "execution_count": null,
   "id": "c0e0b661-f13d-424b-9cf0-50263765917f",
   "metadata": {},
   "outputs": [],
   "source": [
    "# Considering the connectivity matrix after 7 days for April 1998\n",
    "connectivity_matrix_7_36x36_array_nan_April98_piscopia = np.load('connectivity_matrix_7_36x36_array_nan_April98_piscopia.npy')\n",
    "row_sums = np.nansum(connectivity_matrix_7_36x36_array_nan_April98_piscopia, axis=1, keepdims=True)\n",
    "connectivity_matrix_7_36x36_array_nan_April98_piscopia_perc = (connectivity_matrix_7_36x36_array_nan_April98_piscopia / row_sums) * 100"
   ]
  },
  {
   "cell_type": "code",
   "execution_count": null,
   "id": "4dff1137-97a1-4d50-92d1-0c00b3653720",
   "metadata": {},
   "outputs": [],
   "source": [
    "# Considering the connectivity matrix after 7 days for April 1999\n",
    "connectivity_matrix_7_36x36_array_nan_April99_piscopia = np.load('connectivity_matrix_7_36x36_array_nan_April99_piscopia.npy')\n",
    "row_sums = np.nansum(connectivity_matrix_7_36x36_array_nan_April99_piscopia, axis=1, keepdims=True)\n",
    "connectivity_matrix_7_36x36_array_nan_April99_piscopia_perc = (connectivity_matrix_7_36x36_array_nan_April99_piscopia / row_sums) * 100"
   ]
  },
  {
   "cell_type": "markdown",
   "id": "fec2fec0-0509-447f-93b7-4d2a41ea02ea",
   "metadata": {},
   "source": [
    "#### Corals"
   ]
  },
  {
   "cell_type": "code",
   "execution_count": null,
   "id": "00b7472b-8b96-4325-8733-95a494c3615e",
   "metadata": {},
   "outputs": [],
   "source": [
    "# 1133x10 locations of coral spots inside squares created around every 1133 point\n",
    "random_longitudes = np.load('random_longitudes_11330.npy')\n",
    "random_latitudes = np.load('random_latitudes_11330.npy')\n",
    "\n",
    "# The 1133 points inside the domain of the case study, arising from the xataset from Noam paper \n",
    "    # (https://github.com/nvogtvincent/WIO_Coral/tree/main/SCRIPTS)\n",
    "filtered_lon_list = np.load('filtered_lon_list_1133.npy')\n",
    "filtered_lat_list = np.load('filtered_lat_list_1133.npy')\n",
    "\n",
    "# Lon and Lat of the grouped spots in the case study domain, with the addition of 4 points,\n",
    "    # to better represent every part of the domain, particularly around the islands\n",
    "new_corals_lon = np.array([39.73223114, 39.6405884, 39.500, 39.92, 39.47441864, 39.50928879,\n",
    "        39.9375    , 39.56, 39.34, 39.26, 39.03000259, 38.9177742 ,\n",
    "        39.13373184, 39.30393982, 39.60278183, 39.4683342 , 39.18, 39.42,\n",
    "        38.88454819, 39.01739502, 39.10639954, 39.20000076, 39.26356888,\n",
    "        39.6333313 , 39.86, 39.88, 39.7731514 , 39.64492798, 39.36883545,\n",
    "        39.53882599, 39.67703629, 39.89500046, 40.05157852, 40.23666763,\n",
    "        40.67300415, 40.98210526]) \n",
    "new_corals_lat = np.array([-8.01682186, -7.69152546, -7.99, -7.745, -7.48969936, -7.23591518,\n",
    "        -6.89461374, -6.982, -6.809, -6.594,  -6.45777082, -6.18345165,\n",
    "        -6.16138983, -6.36267281, -6.37120247, -6.0890007 , -5.877, -5.776,\n",
    "        -5.79438543, -5.54667282, -5.28294134, -5.02995682, -4.80961895,\n",
    "        -5.42941427, -5.304, -5.048 , -4.86327362, -5.17221212, -4.68640804,\n",
    "        -4.43031645, -4.12676477, -3.63475347, -3.35852289, -2.85103106,\n",
    "        -2.55003238, -2.24830103])"
   ]
  },
  {
   "cell_type": "markdown",
   "id": "3b66b249-af1d-4afd-936d-dd339914e1bd",
   "metadata": {},
   "source": [
    "#### Velocities April 1997"
   ]
  },
  {
   "cell_type": "code",
   "execution_count": null,
   "id": "32ee8892-114a-4dbe-8236-6eeeff72d417",
   "metadata": {},
   "outputs": [],
   "source": [
    "# Considering to have them locally saved, otherwise follow \"THESIS Dataset\" Notebook\n",
    "days70_from_april_1997_velocity_u_OK = xr.open_dataset(\"days70_from_april_1997_velocity_u_OK.nc\")\n",
    "days70_from_april_1997_velocity_v_OK = xr.open_dataset(\"days70_from_april_1997_velocity_v_OK.nc\")"
   ]
  },
  {
   "cell_type": "markdown",
   "id": "eb875625-9bb6-4f3b-95bb-8d178245e540",
   "metadata": {},
   "source": [
    "#### WINDS Dataset 2017"
   ]
  },
  {
   "cell_type": "code",
   "execution_count": null,
   "id": "adf444d4-9565-45f7-bfc3-061fab7f2442",
   "metadata": {},
   "outputs": [],
   "source": [
    "# Following the same approach of \"THESIS Dataset\" Notebook\n",
    "    # To represent the bathymetry\n",
    "\n",
    "base_url = 'https://dap.ceda.ac.uk/thredds/dodsC/bodc/UOX220077/WINDS-M/2017/WINDS-M_SFC_2017.nc'\n",
    "\n",
    "ds_complete_hh = xr.open_dataset(base_url)\n",
    "clipped_ds_hh = ds_complete_hh.sel(y_rho=slice(800, 1101), x_rho=slice(150, 451),\n",
    "                          y_u=slice(800, 1101), x_u=slice(150, 451),\n",
    "                          y_v=slice(800, 1101), x_v=slice(150, 451))\n",
    "\n",
    "fifteen_j_ds_hh = clipped_ds_hh.isel(time_counter=slice(0, 721)) \n",
    "clipped_velocity = fifteen_j_ds_hh.drop_vars(['s_w','hc','s_rho',\n",
    "                                 'theta_s','theta_b','Tcline','Vtransform','f','pm','pn','lon_rho','lat_rho',\n",
    "                                  'angle','mask_rho', 'Cs_r','sc_r','Cs_w','lon_u','lon_v','lat_u', 'lat_v',\n",
    "                                  'sc_w'])"
   ]
  },
  {
   "cell_type": "markdown",
   "id": "9a406091-1ac4-49e3-b723-1de8ab3ccfe0",
   "metadata": {},
   "source": [
    "#### Simulation with OceanParcels"
   ]
  },
  {
   "cell_type": "code",
   "execution_count": null,
   "id": "e7fd079d-6860-4a4b-8611-c7d108591a4a",
   "metadata": {},
   "outputs": [],
   "source": [
    "# See \"THESIS Simulations\" Notebook to have idea of how create a simulation. Here:\n",
    "# a particle released from each of 32 coral grouped spot, during January 2017 for 7 days,\n",
    "# with one release per day, output every hour, dt=30min\n",
    "\n",
    "ds_WINDS_xlsx_Noam_1p_1drel_7d_30m = xr.open_zarr(\"simulazione_WINDS_xlsx_Noam_1p_1drel_7d_30m.zarr\")"
   ]
  },
  {
   "cell_type": "markdown",
   "id": "34f915b4-dbf2-424c-b059-088f3e75d4e0",
   "metadata": {},
   "source": [
    "## Figures"
   ]
  },
  {
   "cell_type": "markdown",
   "id": "36ebc7c9-9d2d-42a4-a0d7-3fba02dc8fcc",
   "metadata": {},
   "source": [
    "#### Connectivity matrix April 1997 after 7 days"
   ]
  },
  {
   "cell_type": "code",
   "execution_count": null,
   "id": "4fd949c4-c418-4d8d-bb7f-94dbaf8f9068",
   "metadata": {},
   "outputs": [],
   "source": [
    "plt.figure(figsize=(10, 8))\n",
    "\n",
    "plt.imshow(connectivity_matrix_7_36x36_array_nan_April97_piscopia_perc, cmap='gist_heat_r',\n",
    "           interpolation='nearest', aspect='auto', vmax=100, vmin=0)\n",
    "plt.gca().invert_yaxis()\n",
    "\n",
    "plt.colorbar(label='Percentage of row sum')\n",
    "plt.title('Connectivity Matrix April 1997 after 7 days \\npercentage for each row', fontsize=18)\n",
    "plt.xlabel('Sink Coral Reef Locations', fontsize=14)\n",
    "plt.ylabel('Source Coral Reef Locations', fontsize=14)\n",
    "plt.grid(which='minor', color='k', linestyle='-', linewidth=0.5)\n",
    "plt.gca().set_xticks(np.arange(-0.5, 36.5, 1), minor=True)\n",
    "plt.gca().set_yticks(np.arange(-0.5, 36.5, 1), minor=True)\n",
    "\n",
    "plt.plot([-0.5, 35.5], [-0.5, 35.5], color='grey', linewidth=1, linestyle='dotted')\n",
    "\n",
    "Mafia_rows = [0, 4]\n",
    "for row in Mafia_rows:\n",
    "    plt.axhline(y=row - 0.5, color='g', linewidth=1.4, linestyle='--')\n",
    "    plt.axhline(y=row - 0.5, xmin=0/36, xmax=4/36, color='g', linewidth=1.7, linestyle='-')\n",
    "    plt.axvline(x=row - 0.5, color='g', linewidth=1.4, linestyle='--')\n",
    "    plt.axvline(x=row - 0.5, ymin=0/36, ymax=4/36, color='g', linewidth=1.7, linestyle='-')\n",
    "\n",
    "Zanzibar_rows = [12, 18]\n",
    "for row in Zanzibar_rows:\n",
    "    plt.axhline(y=row - 0.5, color='b', linewidth=1.4, linestyle='--')\n",
    "    plt.axhline(y=row - 0.5, xmin=12/36, xmax=18/36, color='b', linewidth=1.7, linestyle='-')\n",
    "    plt.axvline(x=row - 0.5, color='b', linewidth=1.4, linestyle='--')\n",
    "    plt.axvline(x=row - 0.5, ymin=12/36, ymax=18/36, color='b', linewidth=1.7, linestyle='-')\n",
    "\n",
    "Pemba_rows = [23, 28]\n",
    "for row in Pemba_rows:\n",
    "    plt.axhline(y=row - 0.5, color='purple', linewidth=1.4, linestyle='--')\n",
    "    plt.axhline(y=row - 0.5, xmin=23/36, xmax=28/36, color='purple', linewidth=1.7, linestyle='-')\n",
    "    plt.axvline(x=row - 0.5, color='purple', linewidth=1.4, linestyle='--')\n",
    "    plt.axvline(x=row - 0.5, ymin=23/36, ymax=28/36, color='purple', linewidth=1.7, linestyle='-')\n",
    "\n",
    "specific_ticks = [-0.5, 1.6, 6, 14.6, 25, 35.5]\n",
    "tick_labels = ['S', 'Mafia', 'Offshore', 'Zanzibar', 'Pemba', 'N']\n",
    "\n",
    "plt.xticks(ticks=specific_ticks, labels=tick_labels, rotation=0)\n",
    "plt.yticks(ticks=specific_ticks, labels=tick_labels, rotation=0)\n",
    "\n",
    "ax = plt.gca()\n",
    "tick_colors = {'S': 'black', 'Mafia': 'g', 'Offshore': 'k', 'Zanzibar': 'b', 'Pemba': 'purple', 'N': 'black'}\n",
    "\n",
    "for label in ax.get_xticklabels():\n",
    "    text = label.get_text()\n",
    "    if text in tick_colors:\n",
    "        label.set_fontsize(12)\n",
    "        label.set_color(tick_colors[text])\n",
    "        if text in ['S', 'N']:\n",
    "            label.set_fontsize(16)\n",
    "            label.set_fontweight('bold')\n",
    "\n",
    "for label in ax.get_yticklabels():\n",
    "    text = label.get_text()\n",
    "    if text in tick_colors:\n",
    "        label.set_fontsize(12)\n",
    "        label.set_color(tick_colors[text])\n",
    "        if text in ['S', 'N']:\n",
    "            label.set_fontsize(16)\n",
    "            label.set_fontweight('bold')\n",
    "\n",
    "plt.tight_layout()"
   ]
  },
  {
   "cell_type": "markdown",
   "id": "1ee21756-5ac4-4e28-9929-f7737ed392df",
   "metadata": {},
   "source": [
    "#### Comparison between 1997, 1998 and 1998 for April after 7 days"
   ]
  },
  {
   "cell_type": "code",
   "execution_count": null,
   "id": "97c86b53-a2de-48fb-8007-4196ed6aa981",
   "metadata": {},
   "outputs": [],
   "source": [
    "cmap = 'gist_heat_r'\n",
    "vmax = 100\n",
    "vmin = 0\n",
    "specific_ticks = [-0.5, 1.6, 6, 14.6, 25, 35.5]\n",
    "tick_labels = ['S', 'Mafia', 'Offshore', 'Zanzibar', 'Pemba', 'N']\n",
    "tick_colors = {'S': 'black', 'Mafia': 'g', 'Offshore': 'k', 'Zanzibar': 'b', 'Pemba': 'purple', 'N': 'black'}\n",
    "Mafia_rows = [0, 4]\n",
    "Zanzibar_rows = [12, 18]\n",
    "Pemba_rows = [23, 28]\n",
    "\n",
    "fig, axs = plt.subplots(1, 3, figsize=(30, 8))\n",
    "\n",
    "def plot_connectivity_matrix(ax, matrix, title):\n",
    "    im = ax.imshow(matrix, cmap=cmap, interpolation='nearest', aspect='auto', vmax=vmax, vmin=vmin)\n",
    "    ax.invert_yaxis()\n",
    "    ax.set_title(title, fontsize=18)\n",
    "    ax.set_xlabel('Sink Coral Reef Locations', fontsize=14)\n",
    "    ax.set_ylabel('Source Coral Reef Locations', fontsize=14)\n",
    "    ax.grid(which='minor', color='k', linestyle='-', linewidth=0.5)\n",
    "    ax.set_xticks(np.arange(-0.5, 36.5, 1), minor=True)\n",
    "    ax.set_yticks(np.arange(-0.5, 36.5, 1), minor=True)\n",
    "    ax.plot([-0.5, 35.5], [-0.5, 35.5], color='grey', linewidth=1, linestyle='dotted')\n",
    "\n",
    "    for row in Mafia_rows:\n",
    "        ax.axhline(y=row - 0.5, color='g', linewidth=1.4, linestyle='--')\n",
    "        ax.axhline(y=row - 0.5, xmin=0/36, xmax=4/36, color='g', linewidth=1.7, linestyle='-')\n",
    "        ax.axvline(x=row - 0.5, color='g', linewidth=1.4, linestyle='--')\n",
    "        ax.axvline(x=row - 0.5, ymin=0/36, ymax=4/36, color='g', linewidth=1.7, linestyle='-')\n",
    "\n",
    "    for row in Zanzibar_rows:\n",
    "        ax.axhline(y=row - 0.5, color='b', linewidth=1.4, linestyle='--')\n",
    "        ax.axhline(y=row - 0.5, xmin=12/36, xmax=18/36, color='b', linewidth=1.7, linestyle='-')\n",
    "        ax.axvline(x=row - 0.5, color='b', linewidth=1.4, linestyle='--')\n",
    "        ax.axvline(x=row - 0.5, ymin=12/36, ymax=18/36, color='b', linewidth=1.7, linestyle='-')\n",
    "\n",
    "    for row in Pemba_rows:\n",
    "        ax.axhline(y=row - 0.5, color='purple', linewidth=1.4, linestyle='--')\n",
    "        ax.axhline(y=row - 0.5, xmin=23/36, xmax=28/36, color='purple', linewidth=1.7, linestyle='-')\n",
    "        ax.axvline(x=row - 0.5, color='purple', linewidth=1.4, linestyle='--')\n",
    "        ax.axvline(x=row - 0.5, ymin=23/36, ymax=28/36, color='purple', linewidth=1.7, linestyle='-')\n",
    "\n",
    "    ax.set_xticks(ticks=specific_ticks, labels=tick_labels, rotation=0)\n",
    "    ax.set_yticks(ticks=specific_ticks, labels=tick_labels, rotation=0)\n",
    "\n",
    "    for label in ax.get_xticklabels():\n",
    "        text = label.get_text()\n",
    "        if text in tick_colors:\n",
    "            label.set_fontsize(12)\n",
    "            label.set_color(tick_colors[text])\n",
    "            if text in ['S', 'N']:\n",
    "                label.set_fontsize(16)\n",
    "                label.set_fontweight('bold')\n",
    "\n",
    "    for label in ax.get_yticklabels():\n",
    "        text = label.get_text()\n",
    "        if text in tick_colors:\n",
    "            label.set_fontsize(12)\n",
    "            label.set_color(tick_colors[text])\n",
    "            if text in ['S', 'N']:\n",
    "                label.set_fontsize(16)\n",
    "                label.set_fontweight('bold')\n",
    "\n",
    "plot_connectivity_matrix(axs[0], connectivity_matrix_7_36x36_array_nan_April97_piscopia_perc, 'Connectivity Matrix April 1997 after 7 days\\npercentage for each row')\n",
    "plot_connectivity_matrix(axs[1], connectivity_matrix_7_36x36_array_nan_April98_piscopia_perc, 'Connectivity Matrix April 1998 after 7 days\\npercentage for each row')\n",
    "plot_connectivity_matrix(axs[2], connectivity_matrix_7_36x36_array_nan_April99_piscopia_perc, 'Connectivity Matrix April 1999 after 7 days\\npercentage for each row')\n",
    "\n",
    "for ax in axs:\n",
    "    fig.colorbar(ax.get_images()[0], ax=ax, label='Percentage of row sum')\n",
    "\n",
    "plt.tight_layout()"
   ]
  },
  {
   "cell_type": "markdown",
   "id": "62f58ccc-42a1-4fb6-b558-2fc1af917db6",
   "metadata": {},
   "source": [
    "#### U Velocity field"
   ]
  },
  {
   "cell_type": "code",
   "execution_count": null,
   "id": "de06ca4c-eee3-47c6-924f-03b825457bbe",
   "metadata": {},
   "outputs": [],
   "source": [
    "plt.figure(figsize=(10, 8))\n",
    "\n",
    "ax = plt.axes(projection=ccrs.PlateCarree())\n",
    "\n",
    "# Invert the y-axis for imshow plot\n",
    "extent_inverted_y = [days70_from_april_1997_velocity_u_OK.nav_lon_u[0,0], days70_from_april_1997_velocity_u_OK.nav_lon_u[0,-1],\n",
    "                     days70_from_april_1997_velocity_u_OK.nav_lat_u[0,0], days70_from_april_1997_velocity_u_OK.nav_lat_u[-1,0]]\n",
    "\n",
    "im = ax.imshow(days70_from_april_1997_velocity_u_OK.u_surf[0,:,:], origin='lower', extent=extent_inverted_y, vmin=-2, vmax=2,\n",
    "               cmap='BrBG', interpolation='nearest', transform=ccrs.PlateCarree())\n",
    "\n",
    "# Add coastlines, gridlines and extent\n",
    "ax.coastlines()\n",
    "ax.gridlines(draw_labels=True, linestyle='--')\n",
    "ax.set_extent(extent_thin, crs=ccrs.PlateCarree())\n",
    "\n",
    "cbar = plt.colorbar(im, ax=ax, orientation='vertical', fraction=0.04, pad=0.05)\n",
    "cbar.set_label('U velocity $[m/s]$')\n",
    "\n",
    "plt.title('U velocity $1^{st}$ April 1997', fontsize=18, pad=20)"
   ]
  },
  {
   "cell_type": "markdown",
   "id": "7318f4bd-2be4-4d24-9870-7d2d552bccbb",
   "metadata": {},
   "source": [
    "#### Bathymetry"
   ]
  },
  {
   "cell_type": "code",
   "execution_count": null,
   "id": "66fe574f-4596-4939-a669-c19f2d606387",
   "metadata": {},
   "outputs": [],
   "source": [
    "# Define the 'Blues' colormap\n",
    "cmap = plt.cm.Blues\n",
    "\n",
    "# Function to create a custom colormap with denser lower range\n",
    "def create_custom_blues_colormap(cmap, transition_value, max_value):\n",
    "    n = 256  # Number of points in the colormap\n",
    "    \n",
    "    # Create a list of colors from the 'Blues' colormap\n",
    "    colors = cmap(np.linspace(0, 1, n))\n",
    "    \n",
    "    # Create a custom scale\n",
    "    scale = np.concatenate([\n",
    "        np.linspace(0, transition_value / max_value, int(n * (transition_value / max_value))),\n",
    "        np.linspace(transition_value / max_value, 1, int(n * (1 - transition_value / max_value)))\n",
    "    ])\n",
    "    \n",
    "    # Create a custom colormap\n",
    "    new_cmap = LinearSegmentedColormap.from_list('custom_blues', colors[scale.argsort()])\n",
    "    \n",
    "    return new_cmap\n",
    "\n",
    "# Create the custom colormap\n",
    "transition_value = 100\n",
    "max_value = 1500\n",
    "custom_blues_cmap = create_custom_blues_colormap(cmap, transition_value, max_value)\n",
    "\n",
    "plt.figure(figsize=(10, 10))\n",
    "\n",
    "ax = plt.axes(projection=ccrs.PlateCarree())\n",
    "\n",
    "# Invert the y-axis for imshow plot\n",
    "extent_inverted_y = [clipped_velocity['nav_lon_rho'][0, 0], clipped_velocity['nav_lon_rho'][0, -1],\n",
    "                     clipped_velocity['nav_lat_rho'][0, 0], clipped_velocity['nav_lat_rho'][-1, 0]]\n",
    "\n",
    "im = ax.imshow(clipped_velocity['h'], origin='lower', extent=extent_inverted_y,\n",
    "               cmap=custom_blues_cmap, interpolation='nearest', transform=ccrs.PlateCarree(), vmin=0, vmax=max_value)\n",
    "\n",
    "ax.coastlines()\n",
    "ax.gridlines(draw_labels=True, linestyle='--')\n",
    "ax.set_extent(extent_thin, crs=ccrs.PlateCarree())\n",
    "\n",
    "cbar = plt.colorbar(im, ax=ax, orientation='vertical', fraction=0.04, pad=0.05)\n",
    "cbar.set_label('Bathymetry $[m]$')\n",
    "\n",
    "plt.title('Case study bathymetry', fontsize=18, pad=20)"
   ]
  },
  {
   "cell_type": "markdown",
   "id": "76070b02-2307-47c4-8355-86252150e798",
   "metadata": {},
   "source": [
    "#### Case study Domain"
   ]
  },
  {
   "cell_type": "code",
   "execution_count": null,
   "id": "733eda21-9fb6-48b8-9019-2c33ed904fa0",
   "metadata": {},
   "outputs": [],
   "source": [
    "# Create a figure and axis with the specified projection\n",
    "fig = plt.figure(figsize=(10, 10))\n",
    "ax = plt.axes(projection=ccrs.PlateCarree())\n",
    "\n",
    "# Set the extent of the map\n",
    "ax.set_extent(real_domain_plusone, crs=ccrs.PlateCarree())\n",
    "\n",
    "# Add CartoDB Positron tiles\n",
    "cartodb_tiles = cimgt.OSM()\n",
    "ax.add_image(cartodb_tiles, 8)  # Zoom level 8\n",
    "\n",
    "# Add Natural Earth coastlines with high resolution\n",
    "ax.add_feature(cfeature.NaturalEarthFeature('physical', 'coastline', '10m',\n",
    "                                           edgecolor='black', linewidth=1, facecolor='none'))\n",
    "\n",
    "# Add other Natural Earth features if needed (e.g., land, borders, rivers)\n",
    "#ax.add_feature(cfeature.BORDERS, linestyle=':')\n",
    "ax.add_feature(cfeature.LAND, edgecolor='black')\n",
    "ax.add_feature(cfeature.RIVERS)\n",
    "\n",
    "# Add gridlines and labels\n",
    "gl = ax.gridlines(draw_labels=True, linestyle='--')\n",
    "gl.right_labels = False\n",
    "gl.top_labels = False\n",
    "\n",
    "# Define the rectangle's bottom-left and top-right corners\n",
    "rectangle_bottom_left = [real_domain[0], real_domain[2]]\n",
    "rectangle_width = real_domain[1] - real_domain[0]\n",
    "rectangle_height = real_domain[3] - real_domain[2]\n",
    "\n",
    "# Create and add the red rectangle to the plot\n",
    "rect = Rectangle((rectangle_bottom_left[0], rectangle_bottom_left[1]), rectangle_width, rectangle_height,\n",
    "                 linewidth=2, edgecolor='red', facecolor='none', transform=ccrs.PlateCarree())\n",
    "ax.add_patch(rect)\n",
    "\n",
    "ax.text(38.4, -3, 'Kenya', transform=ccrs.PlateCarree(), fontsize=30, color='k')\n",
    "ax.text(37.17, -7.14, 'Tanzania', transform=ccrs.PlateCarree(), fontsize=30, color='k')\n",
    "ax.text(40, -8, 'Mafia', transform=ccrs.PlateCarree(), fontsize=24, color='k')\n",
    "ax.text(39.6, -6, 'Zanzibar', transform=ccrs.PlateCarree(), fontsize=24, color='k')\n",
    "ax.text(40, -5.18, 'Pemba', transform=ccrs.PlateCarree(), fontsize=24, color='k')\n",
    "ax.text(40 , -6.94461374, 'Offshore', transform=ccrs.PlateCarree(), fontsize=24, color='k')\n",
    "ax.scatter(39.9375 , -6.89461374, s=50, transform=ccrs.PlateCarree(), color='darkgreen', marker='*')\n",
    "\n",
    "\n",
    "# Add a title to the plot\n",
    "plt.title(\"Case study domain\", fontsize=30, pad=15)"
   ]
  },
  {
   "cell_type": "markdown",
   "id": "14e0836b-6f33-4cfd-8af5-a92d4f708f7a",
   "metadata": {},
   "source": [
    "#### Trajectories"
   ]
  },
  {
   "cell_type": "code",
   "execution_count": null,
   "id": "8d8ad99b-a5b4-4d27-be2e-80fdd38ddaa3",
   "metadata": {},
   "outputs": [],
   "source": [
    "x = ds_WINDS_xlsx_Noam_1p_1drel_7d_30m.lon.values\n",
    "y = ds_WINDS_xlsx_Noam_1p_1drel_7d_30m.lat.values\n",
    "\n",
    "# Find the indices where NaN values occur in each particle's trajectory\n",
    "nan_indices = np.argmax(np.isnan(x), axis=1)\n",
    "\n",
    "# Truncate the arrays x and y at the indices of the first NaN values\n",
    "x_truncated = [x[i, :nan_indices[i]] if nan_indices[i] > 0 else x[i] for i in range(len(x))]\n",
    "y_truncated = [y[i, :nan_indices[i]] if nan_indices[i] > 0 else y[i] for i in range(len(y))]\n",
    "\n",
    "# Create a figure and axis with the specified projection\n",
    "fig = plt.figure(figsize=(10, 10))\n",
    "ax = plt.axes(projection=ccrs.PlateCarree())\n",
    "ax.set_extent(smaller_domain, crs=ccrs.PlateCarree())\n",
    "\n",
    "# Add OpenStreetMap tiles\n",
    "osm_img = cimgt.OSM()\n",
    "ax.add_image(osm_img, 8)  # Zoom level 8\n",
    "\n",
    "# Add Natural Earth coastlines with high resolution\n",
    "ax.add_feature(cfeature.NaturalEarthFeature('physical', 'coastline', '10m', edgecolor='black', facecolor='none'))\n",
    "\n",
    "# Add other Natural Earth features if needed (e.g., land, borders, rivers)\n",
    "ax.add_feature(cfeature.LAND, edgecolor='black')\n",
    "ax.add_feature(cfeature.RIVERS)\n",
    "\n",
    "# Add gridlines and labels\n",
    "gl = ax.gridlines(draw_labels=True, linestyle='--')\n",
    "gl.right_labels = False\n",
    "gl.top_labels = False\n",
    "\n",
    "for i in range(len(x_truncated)):\n",
    "    ax.plot(x_truncated[i], y_truncated[i], linewidth=1, transform=ccrs.PlateCarree())\n",
    "\n",
    "plt.title(f\"Simulation of 32 particle trajectories released \\n daily for 7 days with dt = 30 minutes\", fontsize=15)"
   ]
  }
 ],
 "metadata": {
  "kernelspec": {
   "display_name": "Python 3 (ipykernel)",
   "language": "python",
   "name": "python3"
  },
  "language_info": {
   "codemirror_mode": {
    "name": "ipython",
    "version": 3
   },
   "file_extension": ".py",
   "mimetype": "text/x-python",
   "name": "python",
   "nbconvert_exporter": "python",
   "pygments_lexer": "ipython3",
   "version": "3.12.1"
  }
 },
 "nbformat": 4,
 "nbformat_minor": 5
}

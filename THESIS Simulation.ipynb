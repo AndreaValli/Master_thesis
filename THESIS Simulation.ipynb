{
 "cells": [
  {
   "cell_type": "markdown",
   "id": "540fd88e-72ea-4793-a797-35fe016f2124",
   "metadata": {},
   "source": [
    "# Example simulation with OceanParcels"
   ]
  },
  {
   "cell_type": "markdown",
   "id": "83a026bf-a95f-4f53-b986-f735fb8b79b2",
   "metadata": {},
   "source": [
    "Notebook to handle with the use of OceanParcels to run a simulation with different setting of parameters"
   ]
  },
  {
   "cell_type": "code",
   "execution_count": null,
   "id": "6b076fa4-88fb-4def-9331-b64a6748a184",
   "metadata": {},
   "outputs": [],
   "source": [
    "import xarray as xr\n",
    "import pandas as pd\n",
    "import numpy as np\n",
    "from datetime import timedelta\n",
    "from parcels import FieldSet, Field, ParticleSet, Variable, JITParticle, AdvectionRK4, Kernel"
   ]
  },
  {
   "cell_type": "markdown",
   "id": "a90429fb-0546-423b-ba46-3d1c5bd6a44f",
   "metadata": {},
   "source": [
    "### Ex: April 1997"
   ]
  },
  {
   "cell_type": "markdown",
   "id": "f47407c1-1911-40b5-9c64-39500e128312",
   "metadata": {},
   "source": [
    "### Importing velocity fields and mesh grid"
   ]
  },
  {
   "cell_type": "code",
   "execution_count": null,
   "id": "252cd1e5-7776-4834-8d14-b83b64a23c08",
   "metadata": {},
   "outputs": [],
   "source": [
    "# This passage only to see in detail how the three datasets are made, unnecessary for the fieldset step\n",
    "days70_from_april_1997_velocity_u_OK = xr.open_dataset(\"days70_from_april_1997_velocity_u_OK.nc\")\n",
    "days70_from_april_1997_velocity_v_OK = xr.open_dataset(\"days70_from_april_1997_velocity_v_OK.nc\")\n",
    "mesh_grid = xr.open_dataset(\"WINDS_as_NEMO_mesh_prof.nc\")"
   ]
  },
  {
   "cell_type": "markdown",
   "id": "23f5f599-08cb-4346-940f-025a083581b2",
   "metadata": {},
   "source": [
    "### FieldSet"
   ]
  },
  {
   "cell_type": "markdown",
   "id": "55906d83-4ee1-4842-8e3a-84cbd0e1d009",
   "metadata": {},
   "source": [
    "NOTE: assign the correct path of the .nc files. Here in this way because they are in the same folder"
   ]
  },
  {
   "cell_type": "code",
   "execution_count": null,
   "id": "4402f905-825d-491b-92d9-968b2e30cfd4",
   "metadata": {},
   "outputs": [],
   "source": [
    "ufiles = \"days70_from_april_1997_velocity_u_OK.nc\"\n",
    "vfiles = \"days70_from_april_1997_velocity_v_OK.nc\"\n",
    "mesh_mask = \"WINDS_as_NEMO_mesh_prof.nc\"\n",
    "coords = xr.open_dataset(mesh_mask, decode_times=False)"
   ]
  },
  {
   "cell_type": "markdown",
   "id": "46afad2f-dd6f-456d-9955-07b96e1b9a2a",
   "metadata": {},
   "source": [
    "Following \"from_nemo\" method. It's possible to use different methods."
   ]
  },
  {
   "cell_type": "code",
   "execution_count": null,
   "id": "aa9e742c-1a0d-4512-989c-d3966f5655f9",
   "metadata": {},
   "outputs": [],
   "source": [
    "filenames = {\n",
    "    \"U\": {\"lon\": mesh_mask, \"lat\": mesh_mask, \"data\": ufiles},\n",
    "    \"V\": {\"lon\": mesh_mask, \"lat\": mesh_mask, \"data\": vfiles},\n",
    "}\n",
    "\n",
    "variables = {\"U\": \"u_surf\", \"V\": \"v_surf\"}\n",
    "\n",
    "dimensions = {\n",
    "    \"U\": {\"lon\": \"lon_psi\", \"lat\": \"lat_psi\", \"time\": \"time_counter\"},\n",
    "    \"V\": {\"lon\": \"lon_psi\", \"lat\": \"lat_psi\", \"time\": \"time_counter\"},\n",
    "}\n",
    "\n",
    "fieldset = FieldSet.from_nemo(filenames, variables, dimensions, netcdf_decodewarning=False)"
   ]
  },
  {
   "cell_type": "markdown",
   "id": "149cefed-54b1-480f-beb7-7597c843bb30",
   "metadata": {},
   "source": [
    "### Avoiding errors close to boundaries"
   ]
  },
  {
   "cell_type": "markdown",
   "id": "14ed1987-96e8-434b-85af-aa3c8938577b",
   "metadata": {},
   "source": [
    "To tell Parcels that particles that leave the domain need to be deleted, it's convenient to use a Recovery Kernel, which will be invoked when a particle encounters an ErrorOutOfBounds error, as suggested by Erik van Sebille (https://github.com/OceanParcels/parcels/discussions/1086#discussioncomment-1457212) and in a way similar to this tutorial: https://docs.oceanparcels.org/en/latest/examples/tutorial_kernelloop.html#Working-with-Status-Codes"
   ]
  },
  {
   "cell_type": "code",
   "execution_count": null,
   "id": "6c448107-a9d6-44a0-a001-0b4f3314afcc",
   "metadata": {},
   "outputs": [],
   "source": [
    "def DeleteParticle(particle, fieldset, time):\n",
    "    if particle.state == StatusCode.ErrorOutOfBounds:\n",
    "        particle.delete()"
   ]
  },
  {
   "cell_type": "markdown",
   "id": "8c5062d3-4fe3-4a2d-9fa1-8f51d04fe992",
   "metadata": {},
   "source": [
    "### Releases initialisation"
   ]
  },
  {
   "cell_type": "markdown",
   "id": "3a94d02f-4ec2-4207-8079-0f9f88463709",
   "metadata": {},
   "source": [
    "NOTE: random_longitudes = np.load('random_longitudes_11330.npy') and random_latitudes = np.load('random_latitudes_11330.npy') are the locations of the 1133x10 coral spots arised from the creation of 10 random points around each cell coral spot given by Noam"
   ]
  },
  {
   "cell_type": "code",
   "execution_count": null,
   "id": "484b444a-0103-4e90-af88-02e3f2f41073",
   "metadata": {},
   "outputs": [],
   "source": [
    "# Number of locations\n",
    "n_locations = len(random_longitudes)\n",
    "\n",
    "# Starting time set at 18:00:00 of the 1st of April 1997 (half-hour dataset, 18*2)\n",
    "start_time = days70_from_april_1997_velocity_u_OK.time_counter[36].values\n",
    "\n",
    "# Hours of release of the particles (every day, for 29 days a set of particles is released every hour for 12 hours)\n",
    "release_hours = np.concatenate([np.arange(start, start + 12) for start in np.arange(0, 24*29, 24)])\n",
    "total_particles_per_location = len(release_hours)\n",
    "total_particles = n_locations * total_particles_per_location\n",
    "\n",
    "# Times when a set of particles is released (pay attention to the format of the time,\n",
    "    # because since this variable will be in the ParticleSet, only this specific format is valid)\n",
    "release_times = np.tile(release_hours, n_locations) * timedelta(hours=1).total_seconds()\n",
    "release_times = start_time + release_times.astype('timedelta64[s]')\n",
    "\n",
    "# All the longitudes and latitudes of releasing\n",
    "lon = np.repeat(random_longitudes, total_particles_per_location)\n",
    "lat = np.repeat(random_latitudes, total_particles_per_location)"
   ]
  },
  {
   "cell_type": "markdown",
   "id": "3b5cbacd-46f2-4c3d-805e-97bf7a2159b3",
   "metadata": {},
   "source": [
    "### ParticleSet"
   ]
  },
  {
   "cell_type": "code",
   "execution_count": null,
   "id": "430ac4ce-5cc5-4758-977b-d648abe08d9d",
   "metadata": {},
   "outputs": [],
   "source": [
    "# Create the ParticleSet\n",
    "pset = ParticleSet(fieldset=fieldset,\n",
    "                   pclass=JITParticle,\n",
    "                   lon=lon,\n",
    "                   lat=lat,\n",
    "                   time=release_times)\n",
    "\n",
    "# Create an output file\n",
    "output_file = pset.ParticleFile(name=\"Ok_THESIS_simulation_own_time_CELLS_6.zarr\",\n",
    "                                outputdt=timedelta(hours=1), chunks=(int(5e4), 12))\n",
    "\n",
    "# Execute the particle set for 99 days\n",
    "pset.execute([AdvectionRK4, DeleteParticle], \n",
    "             runtime=timedelta(days=99),  # Total runtime of 99 days\n",
    "             dt=timedelta(minutes=30),\n",
    "             output_file=output_file)"
   ]
  },
  {
   "cell_type": "markdown",
   "id": "97c485d1-3fb9-4cf1-8ef5-2e6947bfbce3",
   "metadata": {},
   "source": [
    "NOTE: \n",
    "\n",
    "- chunks dimensions should be one order of magnitude lower than 'trajectory' value (I do not why, but it works) and 'obs' should be a multiple of chunk corresponding dimension [in this case chunks=(int(5e4), 12) because 'trajectory': 543840 and 'obs': 96]\n",
    "- other parameters are quite easy to set according to the target of the simulations"
   ]
  },
  {
   "cell_type": "markdown",
   "id": "ad373286-05bb-4536-89b1-79b9884ee26a",
   "metadata": {},
   "source": [
    "### Opening of the .zarr file"
   ]
  },
  {
   "cell_type": "code",
   "execution_count": null,
   "id": "d61a16c5-9b43-42fa-8765-bf361073de74",
   "metadata": {},
   "outputs": [],
   "source": [
    "# Just this, oviously inserting the right path of the file\n",
    "ds_own_time_CELLS_6 = xr.open_zarr(\"Ok_THESIS_simulation_own_time_CELLS_6.zarr\")"
   ]
  }
 ],
 "metadata": {
  "kernelspec": {
   "display_name": "Python 3 (ipykernel)",
   "language": "python",
   "name": "python3"
  },
  "language_info": {
   "codemirror_mode": {
    "name": "ipython",
    "version": 3
   },
   "file_extension": ".py",
   "mimetype": "text/x-python",
   "name": "python",
   "nbconvert_exporter": "python",
   "pygments_lexer": "ipython3",
   "version": "3.12.1"
  }
 },
 "nbformat": 4,
 "nbformat_minor": 5
}
